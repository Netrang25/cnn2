{
 "cells": [
  {
   "cell_type": "code",
   "execution_count": 1,
   "id": "3c70023b",
   "metadata": {},
   "outputs": [],
   "source": [
    "import numpy as np\n",
    "import pandas as pd\n",
    "import matplotlib.pyplot as plt\n",
    "import seaborn as sns\n",
    "from sklearn.model_selection import train_test_split\n",
    "from sklearn.preprocessing import StandardScaler"
   ]
  },
  {
   "cell_type": "code",
   "execution_count": 2,
   "id": "012055dc",
   "metadata": {},
   "outputs": [],
   "source": [
    "%matplotlib inline\n",
    "RANDOM_SEED = 27\n",
    "LABELS = [\"Normal\", \"Fraud\"]"
   ]
  },
  {
   "cell_type": "code",
   "execution_count": 3,
   "id": "ccd89d12",
   "metadata": {},
   "outputs": [],
   "source": [
    "df = pd.read_csv(\"creditcard.csv\")"
   ]
  },
  {
   "cell_type": "code",
   "execution_count": 4,
   "id": "aa712946",
   "metadata": {},
   "outputs": [],
   "source": [
    "df2 = df.drop(['Time'], axis=1)\n",
    "\n",
    "X_train, X_test = train_test_split(df2, test_size=0.2, random_state=RANDOM_SEED)\n",
    "\n",
    "X_train = X_train[X_train.Class == 0]\n",
    "\n",
    "X_train = X_train.drop(['Class'], axis=1)\n",
    "\n",
    "y_test = X_test['Class']\n",
    "X_test = X_test.drop(['Class'], axis=1)\n",
    "\n",
    "\n",
    "mean = X_train.mean(axis=0)\n",
    "std = X_train.std(axis=0)\n",
    "X_train = (X_train - mean) / std\n",
    "X_test = (X_test - mean) / std\n",
    "\n",
    "X_train = X_train.to_numpy()\n",
    "X_test = X_test.to_numpy()\n",
    "y_test = y_test.to_numpy()"
   ]
  },
  {
   "cell_type": "code",
   "execution_count": 5,
   "id": "c174d7fe",
   "metadata": {},
   "outputs": [
    {
     "name": "stdout",
     "output_type": "stream",
     "text": [
      "[-7.55191998e-17  5.43082229e-17  2.99952578e-16  4.59050524e-17\n",
      "  1.18081727e-17  2.18669865e-17  1.65689281e-16 -1.07773005e-18\n",
      "  2.37412996e-18  3.02732809e-16 -1.17332002e-16 -1.29327606e-17\n",
      " -9.52775841e-18 -7.74091322e-17 -2.22418491e-17  2.06174444e-18\n",
      " -2.37256804e-16 -3.98603926e-17  6.24771043e-19 -5.99155430e-17\n",
      " -4.60300066e-17 -3.69864458e-17  2.69901091e-17 -3.85483734e-17\n",
      " -3.59243350e-17 -2.47409333e-17 -2.99890101e-18  1.24329438e-17\n",
      "  7.05447728e-14]\n",
      "[0.9999978 0.9999978 0.9999978 0.9999978 0.9999978 0.9999978 0.9999978\n",
      " 0.9999978 0.9999978 0.9999978 0.9999978 0.9999978 0.9999978 0.9999978\n",
      " 0.9999978 0.9999978 0.9999978 0.9999978 0.9999978 0.9999978 0.9999978\n",
      " 0.9999978 0.9999978 0.9999978 0.9999978 0.9999978 0.9999978 0.9999978\n",
      " 0.9999978]\n",
      "[-9.64158338e-03  6.78752177e-03 -3.24662393e-03 -3.59966298e-03\n",
      "  2.35552828e-03 -1.54444756e-03 -8.79391841e-03 -9.22211456e-04\n",
      " -7.35124705e-03 -1.33556197e-02  1.48988153e-02  9.97076818e-04\n",
      "  3.49648368e-03 -9.50247775e-03  6.48869271e-04 -3.01560699e-03\n",
      " -2.75224071e-02 -6.88988737e-03  8.92019961e-03  9.17948948e-04\n",
      " -4.83306828e-03 -5.24170336e-03 -4.40043464e-03  6.16679414e-04\n",
      "  9.71779295e-06  5.54725446e-03 -4.84147425e-03  4.42877718e-03\n",
      " -5.17441194e-03]\n",
      "[1.02628299 1.02604567 1.03196499 1.01352347 1.01808642 1.00395152\n",
      " 1.03709438 1.02066717 1.00051883 1.0417988  1.0120436  1.0540898\n",
      " 0.99249789 1.0578918  0.997155   1.03081945 1.11720803 1.01597647\n",
      " 0.99920307 1.01363431 1.01251711 1.00566246 1.06797884 1.00025696\n",
      " 1.00079697 0.99711556 1.0030835  1.0232095  0.99201608]\n"
     ]
    }
   ],
   "source": [
    "print(np.mean(X_train,axis=0))\n",
    "print(np.std(X_train,axis=0))\n",
    "print(np.mean(X_test,axis=0))\n",
    "print(np.std(X_test,axis=0))"
   ]
  },
  {
   "cell_type": "code",
   "execution_count": 6,
   "id": "20e7e1c1",
   "metadata": {},
   "outputs": [],
   "source": [
    "from tensorflow.keras.layers import Input, Dense\n",
    "from tensorflow.keras.models import Model\n",
    "from tensorflow.keras import regularizers"
   ]
  },
  {
   "cell_type": "code",
   "execution_count": 7,
   "id": "cd3359f6",
   "metadata": {},
   "outputs": [],
   "source": [
    "batch_size = 100\n",
    "original_dim = 29\n",
    "latent_dim = 5\n",
    "intermediate_dim1 = 20\n",
    "intermediate_dim2 = 10\n",
    "epochs = 2\n",
    "epsilon_std = 1.0"
   ]
  },
  {
   "cell_type": "code",
   "execution_count": 8,
   "id": "b11c4875",
   "metadata": {},
   "outputs": [
    {
     "name": "stdout",
     "output_type": "stream",
     "text": [
      "Model: \"encoder\"\n",
      "_________________________________________________________________\n",
      " Layer (type)                Output Shape              Param #   \n",
      "=================================================================\n",
      " input (InputLayer)          [(None, 29)]              0         \n",
      "                                                                 \n",
      " encoding1 (Dense)           (None, 20)                600       \n",
      "                                                                 \n",
      " encoding (Dense)            (None, 10)                210       \n",
      "                                                                 \n",
      " encoder_out (Dense)         (None, 5)                 55        \n",
      "                                                                 \n",
      "=================================================================\n",
      "Total params: 865 (3.38 KB)\n",
      "Trainable params: 865 (3.38 KB)\n",
      "Non-trainable params: 0 (0.00 Byte)\n",
      "_________________________________________________________________\n"
     ]
    }
   ],
   "source": [
    "x = Input(shape=(original_dim,), name=\"input\")\n",
    "\n",
    "h1 = Dense(intermediate_dim1, activation=\"tanh\", name=\"encoding1\", activity_regularizer=regularizers.l1(10e-5))(x)\n",
    "h = Dense(intermediate_dim2, activation='relu', name=\"encoding\")(h1)\n",
    "\n",
    "z = Dense(latent_dim, activation='relu', name=\"encoder_out\")(h)\n",
    "\n",
    "encoder = Model(x, z, name=\"encoder\")\n",
    "\n",
    "encoder.summary()"
   ]
  },
  {
   "cell_type": "code",
   "execution_count": 9,
   "id": "2b8faa30",
   "metadata": {},
   "outputs": [
    {
     "name": "stdout",
     "output_type": "stream",
     "text": [
      "Model: \"decoder\"\n",
      "_________________________________________________________________\n",
      " Layer (type)                Output Shape              Param #   \n",
      "=================================================================\n",
      " decoder_input (InputLayer)  [(None, 5)]               0         \n",
      "                                                                 \n",
      " decoder_h1 (Dense)          (None, 10)                60        \n",
      "                                                                 \n",
      " decoder_h (Dense)           (None, 20)                220       \n",
      "                                                                 \n",
      " flat_decoded (Dense)        (None, 29)                609       \n",
      "                                                                 \n",
      "=================================================================\n",
      "Total params: 889 (3.47 KB)\n",
      "Trainable params: 889 (3.47 KB)\n",
      "Non-trainable params: 0 (0.00 Byte)\n",
      "_________________________________________________________________\n"
     ]
    }
   ],
   "source": [
    "input_decoder = Input(shape=(latent_dim,), name=\"decoder_input\")\n",
    "\n",
    "decoder_h1 = Dense(intermediate_dim2, activation='relu', name=\"decoder_h1\")(input_decoder)\n",
    "decoder_h = Dense(intermediate_dim1, activation='relu', name=\"decoder_h\")(decoder_h1)\n",
    "\n",
    "x_decoded = Dense(original_dim, activation='tanh', name=\"flat_decoded\")(decoder_h)\n",
    "\n",
    "decoder = Model(input_decoder, x_decoded, name=\"decoder\")\n",
    "decoder.summary()"
   ]
  },
  {
   "cell_type": "code",
   "execution_count": 10,
   "id": "8eaca60e",
   "metadata": {},
   "outputs": [
    {
     "name": "stdout",
     "output_type": "stream",
     "text": [
      "Model: \"model\"\n",
      "_________________________________________________________________\n",
      " Layer (type)                Output Shape              Param #   \n",
      "=================================================================\n",
      " input (InputLayer)          [(None, 29)]              0         \n",
      "                                                                 \n",
      " encoder (Functional)        (None, 5)                 865       \n",
      "                                                                 \n",
      " decoder (Functional)        (None, 29)                889       \n",
      "                                                                 \n",
      "=================================================================\n",
      "Total params: 1754 (6.85 KB)\n",
      "Trainable params: 1754 (6.85 KB)\n",
      "Non-trainable params: 0 (0.00 Byte)\n",
      "_________________________________________________________________\n"
     ]
    }
   ],
   "source": [
    "output_combined = decoder(encoder(x))\n",
    "\n",
    "autoencoder = Model(x, output_combined)\n",
    "\n",
    "autoencoder.summary()"
   ]
  },
  {
   "cell_type": "code",
   "execution_count": 11,
   "id": "4ca6a127",
   "metadata": {},
   "outputs": [
    {
     "name": "stdout",
     "output_type": "stream",
     "text": [
      "Epoch 1/2\n",
      "2275/2275 [==============================] - 8s 3ms/step - loss: 0.7879 - accuracy: 0.2037 - val_loss: 0.7671 - val_accuracy: 0.2434\n",
      "Epoch 2/2\n",
      "2275/2275 [==============================] - 7s 3ms/step - loss: 0.6963 - accuracy: 0.2581 - val_loss: 0.7261 - val_accuracy: 0.2767\n"
     ]
    }
   ],
   "source": [
    "autoencoder.compile(optimizer='adam', loss='mean_squared_error', metrics=['accuracy'])\n",
    "\n",
    "history = autoencoder.fit(X_train, X_train,\n",
    "                    epochs=epochs,\n",
    "                    batch_size=batch_size,\n",
    "                    shuffle=True,\n",
    "                    validation_data=(X_test, X_test),\n",
    "                    verbose=1).history"
   ]
  },
  {
   "cell_type": "code",
   "execution_count": 12,
   "id": "abe424c1",
   "metadata": {},
   "outputs": [
    {
     "name": "stdout",
     "output_type": "stream",
     "text": [
      "1781/1781 [==============================] - 3s 2ms/step\n",
      "Full Sample        reconstruction_error    true_class\n",
      "count          56962.000000  56962.000000\n",
      "mean               0.725233      0.001826\n",
      "std                3.976202      0.042690\n",
      "min                0.033984      0.000000\n",
      "25%                0.204668      0.000000\n",
      "50%                0.335469      0.000000\n",
      "75%                0.575187      0.000000\n",
      "max              448.236480      1.000000\n",
      "Normal Sample        reconstruction_error  true_class\n",
      "count          56858.000000     56858.0\n",
      "mean               0.679430         0.0\n",
      "std                3.590195         0.0\n",
      "min                0.033984         0.0\n",
      "25%                0.204434         0.0\n",
      "50%                0.334958         0.0\n",
      "75%                0.573041         0.0\n",
      "max              448.236480         0.0\n",
      "Fraud Sample        reconstruction_error  true_class\n",
      "count            104.000000       104.0\n",
      "mean              25.766173         1.0\n",
      "std               31.526394         0.0\n",
      "min                0.174796         1.0\n",
      "25%                4.718216         1.0\n",
      "50%               10.440539         1.0\n",
      "75%               28.348556         1.0\n",
      "max              157.337261         1.0\n"
     ]
    }
   ],
   "source": [
    "predictions = autoencoder.predict(X_test)\n",
    "mse = np.mean(np.power(X_test - predictions, 2), axis=1)\n",
    "error_df = pd.DataFrame({'reconstruction_error': mse, 'true_class': y_test})\n",
    "print(\"Full Sample\",error_df.describe())\n",
    "error_df_true = error_df[(error_df['true_class']== 0)]\n",
    "print(\"Normal Sample\",error_df_true.describe())\n",
    "error_df_false = error_df[(error_df['true_class']== 1)]\n",
    "print(\"Fraud Sample\",error_df_false.describe())"
   ]
  },
  {
   "cell_type": "code",
   "execution_count": 13,
   "id": "8c75efe5",
   "metadata": {},
   "outputs": [],
   "source": [
    "from sklearn.metrics import (confusion_matrix)"
   ]
  },
  {
   "cell_type": "code",
   "execution_count": 14,
   "id": "b82687f2",
   "metadata": {},
   "outputs": [
    {
     "data": {
      "image/png": "[encoded data removed]",
      "text/plain": [
       "<Figure size 800x800 with 2 Axes>"
      ]
     },
     "metadata": {},
     "output_type": "display_data"
    }
   ],
   "source": [
    "threshold = 0.9\n",
    "\n",
    "groups = error_df.groupby('true_class')\n",
    "\n",
    "y_pred = [1 if e > threshold else 0 for e in error_df.reconstruction_error.values]\n",
    "conf_matrix = confusion_matrix(error_df.true_class, y_pred)\n",
    "\n",
    "\n",
    "plt.figure(figsize=(8, 8))\n",
    "sns.heatmap(conf_matrix, xticklabels=LABELS, yticklabels=LABELS, annot=True, fmt=\"d\");\n",
    "plt.title(\"Confusion matrix\")\n",
    "plt.ylabel('True Class')\n",
    "plt.xlabel('Predicted Class')\n",
    "plt.show()"
   ]
  },
  {
   "cell_type": "code",
   "execution_count": null,
   "id": "4daa1bdd",
   "metadata": {},
   "outputs": [],
   "source": []
  }
 ],
 "metadata": {
  "kernelspec": {
   "display_name": "Python 3 (ipykernel)",
   "language": "python",
   "name": "python3"
  },
  "language_info": {
   "codemirror_mode": {
    "name": "ipython",
    "version": 3
   },
   "file_extension": ".py",
   "mimetype": "text/x-python",
   "name": "python",
   "nbconvert_exporter": "python",
   "pygments_lexer": "ipython3",
   "version": "3.9.13"
  }
 },
 "nbformat": 4,
 "nbformat_minor": 5
}
