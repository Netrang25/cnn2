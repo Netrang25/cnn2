{
 "cells": [
  {
   "cell_type": "code",
   "execution_count": 1,
   "id": "43c86463",
   "metadata": {},
   "outputs": [],
   "source": [
    "import tensorflow as tf\n",
    "from keras.models import Sequential \n",
    "from keras.layers import Dense , Conv2D , Dropout , Flatten,MaxPooling2D\n",
    "import matplotlib.pyplot as plt\n",
    "import numpy as np\n"
   ]
  },
  {
   "cell_type": "code",
   "execution_count": 2,
   "id": "4145cb3d",
   "metadata": {},
   "outputs": [],
   "source": [
    "mnist = tf.keras.datasets.mnist\n",
    "(x_train , y_train),(x_test,y_test)= mnist.load_data()\n",
    "input_shape =(28,28,1)"
   ]
  },
  {
   "cell_type": "code",
   "execution_count": 3,
   "id": "fda85be7",
   "metadata": {},
   "outputs": [],
   "source": [
    "x_train = x_train.reshape(x_train.shape[0],28,28,1)\n",
    "x_test = x_test.reshape(x_test.shape[0],28,28,1)\n",
    "x_train = x_train.astype('float32')\n",
    "x_test = x_test.astype('float32')"
   ]
  },
  {
   "cell_type": "code",
   "execution_count": 4,
   "id": "37b94920",
   "metadata": {},
   "outputs": [
    {
     "name": "stdout",
     "output_type": "stream",
     "text": [
      "(60000, 28, 28, 1)\n",
      "(10000, 28, 28, 1)\n"
     ]
    }
   ],
   "source": [
    "x_test=x_test/255\n",
    "x_train=x_train/255\n",
    "print(x_train.shape)\n",
    "print(x_test.shape)"
   ]
  },
  {
   "cell_type": "code",
   "execution_count": 5,
   "id": "bf43091d",
   "metadata": {},
   "outputs": [
    {
     "name": "stdout",
     "output_type": "stream",
     "text": [
      "Model: \"sequential\"\n",
      "_________________________________________________________________\n",
      " Layer (type)                Output Shape              Param #   \n",
      "=================================================================\n",
      " conv2d (Conv2D)             (None, 26, 26, 28)        280       \n",
      "                                                                 \n",
      " max_pooling2d (MaxPooling2  (None, 13, 13, 28)        0         \n",
      " D)                                                              \n",
      "                                                                 \n",
      " flatten (Flatten)           (None, 4732)              0         \n",
      "                                                                 \n",
      " dense (Dense)               (None, 200)               946600    \n",
      "                                                                 \n",
      " dropout (Dropout)           (None, 200)               0         \n",
      "                                                                 \n",
      " dense_1 (Dense)             (None, 10)                2010      \n",
      "                                                                 \n",
      "=================================================================\n",
      "Total params: 948890 (3.62 MB)\n",
      "Trainable params: 948890 (3.62 MB)\n",
      "Non-trainable params: 0 (0.00 Byte)\n",
      "_________________________________________________________________\n"
     ]
    }
   ],
   "source": [
    "model =Sequential()\n",
    "model.add(Conv2D(28,kernel_size=(3,3),input_shape = input_shape))\n",
    "model.add(MaxPooling2D(pool_size=(2,2)))\n",
    "model.add(Flatten())\n",
    "model.add(Dense(200,activation=\"relu\"))\n",
    "model.add(Dropout(0.3))\n",
    "model.add(Dense(10,activation=\"softmax\"))\n",
    "model.summary()"
   ]
  },
  {
   "cell_type": "code",
   "execution_count": 6,
   "id": "e796ef26",
   "metadata": {},
   "outputs": [
    {
     "name": "stdout",
     "output_type": "stream",
     "text": [
      "Epoch 1/2\n",
      "1875/1875 [==============================] - 36s 19ms/step - loss: 0.2057 - accuracy: 0.9382 - val_loss: 0.0749 - val_accuracy: 0.9771\n",
      "Epoch 2/2\n",
      "1875/1875 [==============================] - 35s 19ms/step - loss: 0.0834 - accuracy: 0.9742 - val_loss: 0.0599 - val_accuracy: 0.9815\n"
     ]
    }
   ],
   "source": [
    "model.compile(optimizer = \"adam\",\n",
    "              loss = \"sparse_categorical_crossentropy\",\n",
    "              metrics = ['accuracy'])\n",
    "history= model.fit(x_train,y_train , validation_data=(x_test,y_test),epochs=2)"
   ]
  },
  {
   "cell_type": "code",
   "execution_count": 7,
   "id": "9d2ed76f",
   "metadata": {},
   "outputs": [
    {
     "name": "stdout",
     "output_type": "stream",
     "text": [
      "313/313 [==============================] - 2s 6ms/step - loss: 0.0599 - accuracy: 0.9815\n",
      "Loss= 0.060\n",
      "Accuracy= 0.982\n"
     ]
    }
   ],
   "source": [
    "test_loss , test_accu = model.evaluate(x_test,y_test)\n",
    "print(\"Loss= %.3f\" %test_loss)\n",
    "print(\"Accuracy= %.3f\" %test_accu)\n"
   ]
  },
  {
   "cell_type": "code",
   "execution_count": 12,
   "id": "0103e91c",
   "metadata": {},
   "outputs": [
    {
     "data": {
      "text/plain": [
       "<function matplotlib.pyplot.show(close=None, block=None)>"
      ]
     },
     "execution_count": 12,
     "metadata": {},
     "output_type": "execute_result"
    },
    {
     "data": {
      "image/png": "[encoded data removed]",
      "text/plain": [
       "<Figure size 640x480 with 1 Axes>"
      ]
     },
     "metadata": {},
     "output_type": "display_data"
    }
   ],
   "source": [
    "image = x_train[45]\n",
    "plt.imshow(np.squeeze(image),cmap='gray')\n",
    "plt.show"
   ]
  },
  {
   "cell_type": "code",
   "execution_count": 13,
   "id": "ad3e4d64",
   "metadata": {},
   "outputs": [
    {
     "name": "stdout",
     "output_type": "stream",
     "text": [
      "1/1 [==============================] - 0s 77ms/step\n"
     ]
    }
   ],
   "source": [
    "image= image.reshape(1,image.shape[0],image.shape[1],image.shape[2])\n",
    "predict_model= model.predict([image])"
   ]
  },
  {
   "cell_type": "code",
   "execution_count": 14,
   "id": "fadd662c",
   "metadata": {},
   "outputs": [
    {
     "name": "stdout",
     "output_type": "stream",
     "text": [
      "%predicted class: 9\n"
     ]
    }
   ],
   "source": [
    "print(\"%predicted class: {}\".format(np.argmax(predict_model)))"
   ]
  },
  {
   "cell_type": "code",
   "execution_count": null,
   "id": "f9e96a66",
   "metadata": {},
   "outputs": [],
   "source": []
  },
  {
   "cell_type": "code",
   "execution_count": null,
   "id": "fdd3b4ff",
   "metadata": {},
   "outputs": [],
   "source": []
  }
 ],
 "metadata": {
  "kernelspec": {
   "display_name": "Python 3 (ipykernel)",
   "language": "python",
   "name": "python3"
  },
  "language_info": {
   "codemirror_mode": {
    "name": "ipython",
    "version": 3
   },
   "file_extension": ".py",
   "mimetype": "text/x-python",
   "name": "python",
   "nbconvert_exporter": "python",
   "pygments_lexer": "ipython3",
   "version": "3.9.13"
  }
 },
 "nbformat": 4,
 "nbformat_minor": 5
}
